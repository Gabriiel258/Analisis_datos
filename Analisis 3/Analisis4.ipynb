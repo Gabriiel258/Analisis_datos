{
 "cells": [
  {
   "cell_type": "code",
   "execution_count": 35,
   "id": "e86b34dd-eb1e-4306-8bf9-cd43c762aa07",
   "metadata": {
    "tags": []
   },
   "outputs": [],
   "source": [
    "import numpy as np\n",
    "import pandas as pd\n",
    "import matplotlib\n",
    "import matplotlib.pyplot as plt \n",
    "import seaborn as sns\n",
    "import plotly.express as px\n",
    "from scipy import stats\n",
    "import statsmodels.api as sm\n",
    "from statsmodels.formula.api import ols\n",
    "from sklearn.model_selection import train_test_split\n",
    "from sklearn.linear_model import LinearRegression\n",
    "from sklearn.metrics import mean_squared_error, r2_score\n",
    "from scipy.stats import f_oneway\n",
    "from statsmodels.stats.multicomp import pairwise_tukeyhsd\n",
    "import scipy.stats as stats"
   ]
  },
  {
   "cell_type": "code",
   "execution_count": 36,
   "id": "1bb9521c-1713-4647-a7cb-0d5a0fa61c5d",
   "metadata": {
    "tags": []
   },
   "outputs": [],
   "source": [
    "df_carnes = pd.read_csv('C:/Users/donos/OneDrive/Escritorio/Ejercicios-Analisis/analisis 3/carne-bovina-original.csv', encoding='iso-8859-1')"
   ]
  },
  {
   "cell_type": "code",
   "execution_count": 37,
   "id": "33e1f032-0a74-440f-ac27-2f679ee0a03b",
   "metadata": {
    "tags": []
   },
   "outputs": [
    {
     "data": {
      "text/html": [
       "<div>\n",
       "<style scoped>\n",
       "    .dataframe tbody tr th:only-of-type {\n",
       "        vertical-align: middle;\n",
       "    }\n",
       "\n",
       "    .dataframe tbody tr th {\n",
       "        vertical-align: top;\n",
       "    }\n",
       "\n",
       "    .dataframe thead th {\n",
       "        text-align: right;\n",
       "    }\n",
       "</style>\n",
       "<table border=\"1\" class=\"dataframe\">\n",
       "  <thead>\n",
       "    <tr style=\"text-align: right;\">\n",
       "      <th></th>\n",
       "      <th>pais_id</th>\n",
       "      <th>pais</th>\n",
       "      <th>provincia_id</th>\n",
       "      <th>provincia</th>\n",
       "      <th>departamento_id</th>\n",
       "      <th>departamento</th>\n",
       "      <th>prov_depto</th>\n",
       "      <th>año</th>\n",
       "      <th>mes</th>\n",
       "      <th>modelo</th>\n",
       "      <th>...</th>\n",
       "      <th>ingreso_neto_($/ha)</th>\n",
       "      <th>gastos_directos_($/ha)</th>\n",
       "      <th>costos_indirectos_($/ha)</th>\n",
       "      <th>eficiencia_stock_(%)</th>\n",
       "      <th>producción_(kg/ha)</th>\n",
       "      <th>destete_(%)</th>\n",
       "      <th>carga_(kg/ha)</th>\n",
       "      <th>Unnamed: 21</th>\n",
       "      <th>Unnamed: 22</th>\n",
       "      <th>Unnamed: 23</th>\n",
       "    </tr>\n",
       "  </thead>\n",
       "  <tbody>\n",
       "    <tr>\n",
       "      <th>0</th>\n",
       "      <td>32</td>\n",
       "      <td>Argentina</td>\n",
       "      <td>6</td>\n",
       "      <td>Buenos Aires</td>\n",
       "      <td>105</td>\n",
       "      <td>Bolivar</td>\n",
       "      <td>6105</td>\n",
       "      <td>2018</td>\n",
       "      <td>2</td>\n",
       "      <td>buenos aires centro-sudoeste</td>\n",
       "      <td>...</td>\n",
       "      <td>3497</td>\n",
       "      <td>1730</td>\n",
       "      <td>1797</td>\n",
       "      <td>35</td>\n",
       "      <td>117</td>\n",
       "      <td>69</td>\n",
       "      <td>336</td>\n",
       "      <td>NaN</td>\n",
       "      <td>NaN</td>\n",
       "      <td>NaN</td>\n",
       "    </tr>\n",
       "    <tr>\n",
       "      <th>1</th>\n",
       "      <td>32</td>\n",
       "      <td>Argentina</td>\n",
       "      <td>6</td>\n",
       "      <td>Buenos Aires</td>\n",
       "      <td>231</td>\n",
       "      <td>Daireaux</td>\n",
       "      <td>6231</td>\n",
       "      <td>2018</td>\n",
       "      <td>2</td>\n",
       "      <td>buenos aires centro-sudoeste</td>\n",
       "      <td>...</td>\n",
       "      <td>3497</td>\n",
       "      <td>1730</td>\n",
       "      <td>1797</td>\n",
       "      <td>35</td>\n",
       "      <td>117</td>\n",
       "      <td>69</td>\n",
       "      <td>336</td>\n",
       "      <td>NaN</td>\n",
       "      <td>NaN</td>\n",
       "      <td>NaN</td>\n",
       "    </tr>\n",
       "    <tr>\n",
       "      <th>2</th>\n",
       "      <td>32</td>\n",
       "      <td>Argentina</td>\n",
       "      <td>6</td>\n",
       "      <td>Buenos Aires</td>\n",
       "      <td>203</td>\n",
       "      <td>Coronel Suarez</td>\n",
       "      <td>6203</td>\n",
       "      <td>2018</td>\n",
       "      <td>2</td>\n",
       "      <td>buenos aires centro-sudoeste</td>\n",
       "      <td>...</td>\n",
       "      <td>3497</td>\n",
       "      <td>1730</td>\n",
       "      <td>1797</td>\n",
       "      <td>35</td>\n",
       "      <td>117</td>\n",
       "      <td>69</td>\n",
       "      <td>336</td>\n",
       "      <td>NaN</td>\n",
       "      <td>NaN</td>\n",
       "      <td>NaN</td>\n",
       "    </tr>\n",
       "    <tr>\n",
       "      <th>3</th>\n",
       "      <td>32</td>\n",
       "      <td>Argentina</td>\n",
       "      <td>14</td>\n",
       "      <td>Cordoba</td>\n",
       "      <td>42</td>\n",
       "      <td>General San Martin</td>\n",
       "      <td>14042</td>\n",
       "      <td>2018</td>\n",
       "      <td>2</td>\n",
       "      <td>centro cordoba sur</td>\n",
       "      <td>...</td>\n",
       "      <td>4589</td>\n",
       "      <td>2544</td>\n",
       "      <td>1909</td>\n",
       "      <td>36</td>\n",
       "      <td>157</td>\n",
       "      <td>65</td>\n",
       "      <td>436</td>\n",
       "      <td>NaN</td>\n",
       "      <td>NaN</td>\n",
       "      <td>NaN</td>\n",
       "    </tr>\n",
       "  </tbody>\n",
       "</table>\n",
       "<p>4 rows × 24 columns</p>\n",
       "</div>"
      ],
      "text/plain": [
       "   pais_id       pais  provincia_id     provincia  departamento_id   \n",
       "0       32  Argentina             6  Buenos Aires              105  \\\n",
       "1       32  Argentina             6  Buenos Aires              231   \n",
       "2       32  Argentina             6  Buenos Aires              203   \n",
       "3       32  Argentina            14       Cordoba               42   \n",
       "\n",
       "         departamento  prov_depto   año  mes                        modelo   \n",
       "0             Bolivar        6105  2018    2  buenos aires centro-sudoeste  \\\n",
       "1            Daireaux        6231  2018    2  buenos aires centro-sudoeste   \n",
       "2      Coronel Suarez        6203  2018    2  buenos aires centro-sudoeste   \n",
       "3  General San Martin       14042  2018    2            centro cordoba sur   \n",
       "\n",
       "   ... ingreso_neto_($/ha) gastos_directos_($/ha)  costos_indirectos_($/ha)   \n",
       "0  ...                3497                   1730                      1797  \\\n",
       "1  ...                3497                   1730                      1797   \n",
       "2  ...                3497                   1730                      1797   \n",
       "3  ...                4589                   2544                      1909   \n",
       "\n",
       "   eficiencia_stock_(%)  producción_(kg/ha)  destete_(%)  carga_(kg/ha)   \n",
       "0                    35                 117           69            336  \\\n",
       "1                    35                 117           69            336   \n",
       "2                    35                 117           69            336   \n",
       "3                    36                 157           65            436   \n",
       "\n",
       "   Unnamed: 21  Unnamed: 22  Unnamed: 23  \n",
       "0          NaN          NaN          NaN  \n",
       "1          NaN          NaN          NaN  \n",
       "2          NaN          NaN          NaN  \n",
       "3          NaN          NaN          NaN  \n",
       "\n",
       "[4 rows x 24 columns]"
      ]
     },
     "execution_count": 37,
     "metadata": {},
     "output_type": "execute_result"
    }
   ],
   "source": [
    "df_carnes.head(4)"
   ]
  },
  {
   "cell_type": "code",
   "execution_count": 38,
   "id": "a3b4af54-86b5-46e8-9f17-a5999c2af319",
   "metadata": {
    "tags": []
   },
   "outputs": [],
   "source": [
    "#informacion de la tabla"
   ]
  },
  {
   "cell_type": "code",
   "execution_count": 39,
   "id": "bbdc546d-c204-4338-a10a-aa5f1f74c80d",
   "metadata": {
    "tags": []
   },
   "outputs": [
    {
     "name": "stdout",
     "output_type": "stream",
     "text": [
      "<class 'pandas.core.frame.DataFrame'>\n",
      "RangeIndex: 2598 entries, 0 to 2597\n",
      "Data columns (total 24 columns):\n",
      " #   Column                    Non-Null Count  Dtype  \n",
      "---  ------                    --------------  -----  \n",
      " 0   pais_id                   2598 non-null   int64  \n",
      " 1   pais                      2598 non-null   object \n",
      " 2   provincia_id              2598 non-null   int64  \n",
      " 3   provincia                 2598 non-null   object \n",
      " 4   departamento_id           2598 non-null   int64  \n",
      " 5   departamento              2598 non-null   object \n",
      " 6   prov_depto                2598 non-null   int64  \n",
      " 7   año                       2598 non-null   int64  \n",
      " 8   mes                       2598 non-null   int64  \n",
      " 9   modelo                    2598 non-null   object \n",
      " 10  actividad                 2598 non-null   object \n",
      " 11  referencia                2598 non-null   object \n",
      " 12  margen_bruto_($/ha)       2598 non-null   int64  \n",
      " 13  resultado_neto_($/ha)     2598 non-null   int64  \n",
      " 14  ingreso_neto_($/ha)       2598 non-null   int64  \n",
      " 15  gastos_directos_($/ha)    2598 non-null   int64  \n",
      " 16  costos_indirectos_($/ha)  2598 non-null   int64  \n",
      " 17  eficiencia_stock_(%)      2598 non-null   int64  \n",
      " 18  producción_(kg/ha)        2598 non-null   int64  \n",
      " 19  destete_(%)               2598 non-null   int64  \n",
      " 20  carga_(kg/ha)             2598 non-null   int64  \n",
      " 21  Unnamed: 21               0 non-null      float64\n",
      " 22  Unnamed: 22               0 non-null      float64\n",
      " 23  Unnamed: 23               41 non-null     float64\n",
      "dtypes: float64(3), int64(15), object(6)\n",
      "memory usage: 487.2+ KB\n"
     ]
    }
   ],
   "source": [
    "df_carnes.info()"
   ]
  },
  {
   "cell_type": "code",
   "execution_count": 40,
   "id": "3156111e-4ce7-4888-8944-aca7c0747025",
   "metadata": {
    "tags": []
   },
   "outputs": [],
   "source": [
    "#sacamos las descripcione estadisticas estadisticas de la tabla "
   ]
  },
  {
   "cell_type": "code",
   "execution_count": 41,
   "id": "1ea75b15-394c-4ad7-894d-d82da3d0e4c1",
   "metadata": {
    "tags": []
   },
   "outputs": [
    {
     "data": {
      "text/html": [
       "<div>\n",
       "<style scoped>\n",
       "    .dataframe tbody tr th:only-of-type {\n",
       "        vertical-align: middle;\n",
       "    }\n",
       "\n",
       "    .dataframe tbody tr th {\n",
       "        vertical-align: top;\n",
       "    }\n",
       "\n",
       "    .dataframe thead th {\n",
       "        text-align: right;\n",
       "    }\n",
       "</style>\n",
       "<table border=\"1\" class=\"dataframe\">\n",
       "  <thead>\n",
       "    <tr style=\"text-align: right;\">\n",
       "      <th></th>\n",
       "      <th>count</th>\n",
       "      <th>mean</th>\n",
       "      <th>std</th>\n",
       "      <th>min</th>\n",
       "      <th>25%</th>\n",
       "      <th>50%</th>\n",
       "      <th>75%</th>\n",
       "      <th>max</th>\n",
       "    </tr>\n",
       "  </thead>\n",
       "  <tbody>\n",
       "    <tr>\n",
       "      <th>pais_id</th>\n",
       "      <td>2598.0</td>\n",
       "      <td>32.000000</td>\n",
       "      <td>0.000000</td>\n",
       "      <td>32.0</td>\n",
       "      <td>32.0</td>\n",
       "      <td>32.0</td>\n",
       "      <td>32.00</td>\n",
       "      <td>32.0</td>\n",
       "    </tr>\n",
       "    <tr>\n",
       "      <th>provincia_id</th>\n",
       "      <td>2598.0</td>\n",
       "      <td>34.338722</td>\n",
       "      <td>28.035664</td>\n",
       "      <td>6.0</td>\n",
       "      <td>14.0</td>\n",
       "      <td>22.0</td>\n",
       "      <td>62.00</td>\n",
       "      <td>86.0</td>\n",
       "    </tr>\n",
       "    <tr>\n",
       "      <th>departamento_id</th>\n",
       "      <td>2598.0</td>\n",
       "      <td>159.347960</td>\n",
       "      <td>193.412957</td>\n",
       "      <td>7.0</td>\n",
       "      <td>42.0</td>\n",
       "      <td>91.0</td>\n",
       "      <td>154.00</td>\n",
       "      <td>854.0</td>\n",
       "    </tr>\n",
       "    <tr>\n",
       "      <th>prov_depto</th>\n",
       "      <td>2598.0</td>\n",
       "      <td>34498.070054</td>\n",
       "      <td>27952.465277</td>\n",
       "      <td>6007.0</td>\n",
       "      <td>14042.0</td>\n",
       "      <td>22119.0</td>\n",
       "      <td>62054.25</td>\n",
       "      <td>86189.0</td>\n",
       "    </tr>\n",
       "    <tr>\n",
       "      <th>año</th>\n",
       "      <td>2598.0</td>\n",
       "      <td>2016.101617</td>\n",
       "      <td>0.957546</td>\n",
       "      <td>2015.0</td>\n",
       "      <td>2015.0</td>\n",
       "      <td>2016.0</td>\n",
       "      <td>2017.00</td>\n",
       "      <td>2018.0</td>\n",
       "    </tr>\n",
       "    <tr>\n",
       "      <th>mes</th>\n",
       "      <td>2598.0</td>\n",
       "      <td>6.516166</td>\n",
       "      <td>3.358838</td>\n",
       "      <td>2.0</td>\n",
       "      <td>5.0</td>\n",
       "      <td>8.0</td>\n",
       "      <td>11.00</td>\n",
       "      <td>11.0</td>\n",
       "    </tr>\n",
       "    <tr>\n",
       "      <th>margen_bruto_($/ha)</th>\n",
       "      <td>2598.0</td>\n",
       "      <td>1001.076212</td>\n",
       "      <td>725.409867</td>\n",
       "      <td>-107.0</td>\n",
       "      <td>477.0</td>\n",
       "      <td>645.0</td>\n",
       "      <td>1400.00</td>\n",
       "      <td>3148.0</td>\n",
       "    </tr>\n",
       "    <tr>\n",
       "      <th>resultado_neto_($/ha)</th>\n",
       "      <td>2598.0</td>\n",
       "      <td>414.786759</td>\n",
       "      <td>531.999711</td>\n",
       "      <td>-1299.0</td>\n",
       "      <td>119.0</td>\n",
       "      <td>241.0</td>\n",
       "      <td>750.00</td>\n",
       "      <td>1761.0</td>\n",
       "    </tr>\n",
       "    <tr>\n",
       "      <th>ingreso_neto_($/ha)</th>\n",
       "      <td>2598.0</td>\n",
       "      <td>1585.558122</td>\n",
       "      <td>1344.484555</td>\n",
       "      <td>205.0</td>\n",
       "      <td>664.0</td>\n",
       "      <td>1013.0</td>\n",
       "      <td>2286.00</td>\n",
       "      <td>5980.0</td>\n",
       "    </tr>\n",
       "    <tr>\n",
       "      <th>gastos_directos_($/ha)</th>\n",
       "      <td>2598.0</td>\n",
       "      <td>584.456505</td>\n",
       "      <td>864.813956</td>\n",
       "      <td>46.0</td>\n",
       "      <td>137.0</td>\n",
       "      <td>228.0</td>\n",
       "      <td>423.00</td>\n",
       "      <td>4424.0</td>\n",
       "    </tr>\n",
       "    <tr>\n",
       "      <th>costos_indirectos_($/ha)</th>\n",
       "      <td>2598.0</td>\n",
       "      <td>586.319477</td>\n",
       "      <td>486.093112</td>\n",
       "      <td>75.0</td>\n",
       "      <td>241.0</td>\n",
       "      <td>401.0</td>\n",
       "      <td>777.00</td>\n",
       "      <td>2522.0</td>\n",
       "    </tr>\n",
       "    <tr>\n",
       "      <th>eficiencia_stock_(%)</th>\n",
       "      <td>2598.0</td>\n",
       "      <td>32.755196</td>\n",
       "      <td>9.402445</td>\n",
       "      <td>20.0</td>\n",
       "      <td>27.0</td>\n",
       "      <td>31.0</td>\n",
       "      <td>35.00</td>\n",
       "      <td>59.0</td>\n",
       "    </tr>\n",
       "    <tr>\n",
       "      <th>producción_(kg/ha)</th>\n",
       "      <td>2598.0</td>\n",
       "      <td>78.708237</td>\n",
       "      <td>76.291198</td>\n",
       "      <td>7.0</td>\n",
       "      <td>28.0</td>\n",
       "      <td>46.0</td>\n",
       "      <td>92.00</td>\n",
       "      <td>284.0</td>\n",
       "    </tr>\n",
       "    <tr>\n",
       "      <th>destete_(%)</th>\n",
       "      <td>2598.0</td>\n",
       "      <td>-16573.919938</td>\n",
       "      <td>37264.292699</td>\n",
       "      <td>-99999.0</td>\n",
       "      <td>60.0</td>\n",
       "      <td>60.0</td>\n",
       "      <td>69.00</td>\n",
       "      <td>78.0</td>\n",
       "    </tr>\n",
       "    <tr>\n",
       "      <th>carga_(kg/ha)</th>\n",
       "      <td>2598.0</td>\n",
       "      <td>209.244419</td>\n",
       "      <td>134.132091</td>\n",
       "      <td>19.0</td>\n",
       "      <td>101.0</td>\n",
       "      <td>182.0</td>\n",
       "      <td>293.00</td>\n",
       "      <td>492.0</td>\n",
       "    </tr>\n",
       "    <tr>\n",
       "      <th>Unnamed: 21</th>\n",
       "      <td>0.0</td>\n",
       "      <td>NaN</td>\n",
       "      <td>NaN</td>\n",
       "      <td>NaN</td>\n",
       "      <td>NaN</td>\n",
       "      <td>NaN</td>\n",
       "      <td>NaN</td>\n",
       "      <td>NaN</td>\n",
       "    </tr>\n",
       "    <tr>\n",
       "      <th>Unnamed: 22</th>\n",
       "      <td>0.0</td>\n",
       "      <td>NaN</td>\n",
       "      <td>NaN</td>\n",
       "      <td>NaN</td>\n",
       "      <td>NaN</td>\n",
       "      <td>NaN</td>\n",
       "      <td>NaN</td>\n",
       "      <td>NaN</td>\n",
       "    </tr>\n",
       "    <tr>\n",
       "      <th>Unnamed: 23</th>\n",
       "      <td>41.0</td>\n",
       "      <td>75.634146</td>\n",
       "      <td>42.556877</td>\n",
       "      <td>7.0</td>\n",
       "      <td>42.0</td>\n",
       "      <td>77.0</td>\n",
       "      <td>112.00</td>\n",
       "      <td>154.0</td>\n",
       "    </tr>\n",
       "  </tbody>\n",
       "</table>\n",
       "</div>"
      ],
      "text/plain": [
       "                           count          mean           std      min   \n",
       "pais_id                   2598.0     32.000000      0.000000     32.0  \\\n",
       "provincia_id              2598.0     34.338722     28.035664      6.0   \n",
       "departamento_id           2598.0    159.347960    193.412957      7.0   \n",
       "prov_depto                2598.0  34498.070054  27952.465277   6007.0   \n",
       "año                       2598.0   2016.101617      0.957546   2015.0   \n",
       "mes                       2598.0      6.516166      3.358838      2.0   \n",
       "margen_bruto_($/ha)       2598.0   1001.076212    725.409867   -107.0   \n",
       "resultado_neto_($/ha)     2598.0    414.786759    531.999711  -1299.0   \n",
       "ingreso_neto_($/ha)       2598.0   1585.558122   1344.484555    205.0   \n",
       "gastos_directos_($/ha)    2598.0    584.456505    864.813956     46.0   \n",
       "costos_indirectos_($/ha)  2598.0    586.319477    486.093112     75.0   \n",
       "eficiencia_stock_(%)      2598.0     32.755196      9.402445     20.0   \n",
       "producción_(kg/ha)        2598.0     78.708237     76.291198      7.0   \n",
       "destete_(%)               2598.0 -16573.919938  37264.292699 -99999.0   \n",
       "carga_(kg/ha)             2598.0    209.244419    134.132091     19.0   \n",
       "Unnamed: 21                  0.0           NaN           NaN      NaN   \n",
       "Unnamed: 22                  0.0           NaN           NaN      NaN   \n",
       "Unnamed: 23                 41.0     75.634146     42.556877      7.0   \n",
       "\n",
       "                              25%      50%       75%      max  \n",
       "pais_id                      32.0     32.0     32.00     32.0  \n",
       "provincia_id                 14.0     22.0     62.00     86.0  \n",
       "departamento_id              42.0     91.0    154.00    854.0  \n",
       "prov_depto                14042.0  22119.0  62054.25  86189.0  \n",
       "año                        2015.0   2016.0   2017.00   2018.0  \n",
       "mes                           5.0      8.0     11.00     11.0  \n",
       "margen_bruto_($/ha)         477.0    645.0   1400.00   3148.0  \n",
       "resultado_neto_($/ha)       119.0    241.0    750.00   1761.0  \n",
       "ingreso_neto_($/ha)         664.0   1013.0   2286.00   5980.0  \n",
       "gastos_directos_($/ha)      137.0    228.0    423.00   4424.0  \n",
       "costos_indirectos_($/ha)    241.0    401.0    777.00   2522.0  \n",
       "eficiencia_stock_(%)         27.0     31.0     35.00     59.0  \n",
       "producción_(kg/ha)           28.0     46.0     92.00    284.0  \n",
       "destete_(%)                  60.0     60.0     69.00     78.0  \n",
       "carga_(kg/ha)               101.0    182.0    293.00    492.0  \n",
       "Unnamed: 21                   NaN      NaN       NaN      NaN  \n",
       "Unnamed: 22                   NaN      NaN       NaN      NaN  \n",
       "Unnamed: 23                  42.0     77.0    112.00    154.0  "
      ]
     },
     "execution_count": 41,
     "metadata": {},
     "output_type": "execute_result"
    }
   ],
   "source": [
    "df_carnes.describe().transpose()"
   ]
  },
  {
   "cell_type": "code",
   "execution_count": 42,
   "id": "9fc20eaa-3ef3-472f-93c8-c7b672af393e",
   "metadata": {},
   "outputs": [],
   "source": [
    "#observamos que columnas tienen valores nulos"
   ]
  },
  {
   "cell_type": "code",
   "execution_count": 43,
   "id": "c9b68572-1d78-409a-a2f9-ee6697b26aa7",
   "metadata": {
    "tags": []
   },
   "outputs": [
    {
     "data": {
      "text/plain": [
       "pais_id                        0\n",
       "pais                           0\n",
       "provincia_id                   0\n",
       "provincia                      0\n",
       "departamento_id                0\n",
       "departamento                   0\n",
       "prov_depto                     0\n",
       "año                            0\n",
       "mes                            0\n",
       "modelo                         0\n",
       "actividad                      0\n",
       "referencia                     0\n",
       "margen_bruto_($/ha)            0\n",
       "resultado_neto_($/ha)          0\n",
       "ingreso_neto_($/ha)            0\n",
       "gastos_directos_($/ha)         0\n",
       "costos_indirectos_($/ha)       0\n",
       "eficiencia_stock_(%)           0\n",
       "producción_(kg/ha)             0\n",
       "destete_(%)                    0\n",
       "carga_(kg/ha)                  0\n",
       "Unnamed: 21                 2598\n",
       "Unnamed: 22                 2598\n",
       "Unnamed: 23                 2557\n",
       "dtype: int64"
      ]
     },
     "execution_count": 43,
     "metadata": {},
     "output_type": "execute_result"
    }
   ],
   "source": [
    "df_carnes.isnull().sum()"
   ]
  },
  {
   "cell_type": "code",
   "execution_count": 44,
   "id": "a90816bd-0ae0-489b-8798-5cf7bf962d39",
   "metadata": {},
   "outputs": [],
   "source": [
    "#observamos en cada columna cuantos valores unicos tienen"
   ]
  },
  {
   "cell_type": "code",
   "execution_count": 45,
   "id": "66a502dd-c59b-41d3-adf0-303c2a2681cd",
   "metadata": {
    "tags": []
   },
   "outputs": [],
   "source": [
    "cols = df_carnes.columns"
   ]
  },
  {
   "cell_type": "code",
   "execution_count": 46,
   "id": "f42437e0-83ac-44ea-8dbb-dd58136459d2",
   "metadata": {
    "tags": []
   },
   "outputs": [
    {
     "data": {
      "text/plain": [
       "pais_id                       1\n",
       "pais                          1\n",
       "provincia_id                 13\n",
       "provincia                    13\n",
       "departamento_id              75\n",
       "departamento                199\n",
       "prov_depto                  224\n",
       "año                           4\n",
       "mes                           4\n",
       "modelo                       21\n",
       "actividad                     3\n",
       "referencia                    1\n",
       "margen_bruto_($/ha)         218\n",
       "resultado_neto_($/ha)       213\n",
       "ingreso_neto_($/ha)         224\n",
       "gastos_directos_($/ha)      190\n",
       "costos_indirectos_($/ha)    209\n",
       "eficiencia_stock_(%)         22\n",
       "producción_(kg/ha)           26\n",
       "destete_(%)                  11\n",
       "carga_(kg/ha)                41\n",
       "Unnamed: 21                   0\n",
       "Unnamed: 22                   0\n",
       "Unnamed: 23                  22\n",
       "dtype: int64"
      ]
     },
     "execution_count": 46,
     "metadata": {},
     "output_type": "execute_result"
    }
   ],
   "source": [
    "df_carnes[cols].nunique()"
   ]
  },
  {
   "cell_type": "code",
   "execution_count": 47,
   "id": "2facb16c-7f37-4e08-b19f-f341909b376b",
   "metadata": {
    "tags": []
   },
   "outputs": [],
   "source": [
    "#observamos que las ultimas 3 columnas no poseen valores de utilidad\n",
    "#observamos que tienen muchos valores null\n",
    "#procedemos a eliminar esas 3 columnas"
   ]
  },
  {
   "cell_type": "code",
   "execution_count": 48,
   "id": "5a475af3-7f0e-4c9a-94c9-9242a9279e7d",
   "metadata": {
    "tags": []
   },
   "outputs": [],
   "source": [
    "df_carnes = df_carnes.dropna(axis=1)"
   ]
  },
  {
   "cell_type": "code",
   "execution_count": 49,
   "id": "3e2fb011-1cfe-47f8-b9b3-c93333ac5eea",
   "metadata": {
    "tags": []
   },
   "outputs": [
    {
     "data": {
      "text/html": [
       "<div>\n",
       "<style scoped>\n",
       "    .dataframe tbody tr th:only-of-type {\n",
       "        vertical-align: middle;\n",
       "    }\n",
       "\n",
       "    .dataframe tbody tr th {\n",
       "        vertical-align: top;\n",
       "    }\n",
       "\n",
       "    .dataframe thead th {\n",
       "        text-align: right;\n",
       "    }\n",
       "</style>\n",
       "<table border=\"1\" class=\"dataframe\">\n",
       "  <thead>\n",
       "    <tr style=\"text-align: right;\">\n",
       "      <th></th>\n",
       "      <th>pais_id</th>\n",
       "      <th>pais</th>\n",
       "      <th>provincia_id</th>\n",
       "      <th>provincia</th>\n",
       "      <th>departamento_id</th>\n",
       "      <th>departamento</th>\n",
       "      <th>prov_depto</th>\n",
       "      <th>año</th>\n",
       "      <th>mes</th>\n",
       "      <th>modelo</th>\n",
       "      <th>...</th>\n",
       "      <th>referencia</th>\n",
       "      <th>margen_bruto_($/ha)</th>\n",
       "      <th>resultado_neto_($/ha)</th>\n",
       "      <th>ingreso_neto_($/ha)</th>\n",
       "      <th>gastos_directos_($/ha)</th>\n",
       "      <th>costos_indirectos_($/ha)</th>\n",
       "      <th>eficiencia_stock_(%)</th>\n",
       "      <th>producción_(kg/ha)</th>\n",
       "      <th>destete_(%)</th>\n",
       "      <th>carga_(kg/ha)</th>\n",
       "    </tr>\n",
       "  </thead>\n",
       "  <tbody>\n",
       "    <tr>\n",
       "      <th>0</th>\n",
       "      <td>32</td>\n",
       "      <td>Argentina</td>\n",
       "      <td>6</td>\n",
       "      <td>Buenos Aires</td>\n",
       "      <td>105</td>\n",
       "      <td>Bolivar</td>\n",
       "      <td>6105</td>\n",
       "      <td>2018</td>\n",
       "      <td>2</td>\n",
       "      <td>buenos aires centro-sudoeste</td>\n",
       "      <td>...</td>\n",
       "      <td>http://www.agroindustria.gob.ar/sitio/areas/bo...</td>\n",
       "      <td>1766</td>\n",
       "      <td>-31</td>\n",
       "      <td>3497</td>\n",
       "      <td>1730</td>\n",
       "      <td>1797</td>\n",
       "      <td>35</td>\n",
       "      <td>117</td>\n",
       "      <td>69</td>\n",
       "      <td>336</td>\n",
       "    </tr>\n",
       "    <tr>\n",
       "      <th>1</th>\n",
       "      <td>32</td>\n",
       "      <td>Argentina</td>\n",
       "      <td>6</td>\n",
       "      <td>Buenos Aires</td>\n",
       "      <td>231</td>\n",
       "      <td>Daireaux</td>\n",
       "      <td>6231</td>\n",
       "      <td>2018</td>\n",
       "      <td>2</td>\n",
       "      <td>buenos aires centro-sudoeste</td>\n",
       "      <td>...</td>\n",
       "      <td>http://www.agroindustria.gob.ar/sitio/areas/bo...</td>\n",
       "      <td>1766</td>\n",
       "      <td>-31</td>\n",
       "      <td>3497</td>\n",
       "      <td>1730</td>\n",
       "      <td>1797</td>\n",
       "      <td>35</td>\n",
       "      <td>117</td>\n",
       "      <td>69</td>\n",
       "      <td>336</td>\n",
       "    </tr>\n",
       "    <tr>\n",
       "      <th>2</th>\n",
       "      <td>32</td>\n",
       "      <td>Argentina</td>\n",
       "      <td>6</td>\n",
       "      <td>Buenos Aires</td>\n",
       "      <td>203</td>\n",
       "      <td>Coronel Suarez</td>\n",
       "      <td>6203</td>\n",
       "      <td>2018</td>\n",
       "      <td>2</td>\n",
       "      <td>buenos aires centro-sudoeste</td>\n",
       "      <td>...</td>\n",
       "      <td>http://www.agroindustria.gob.ar/sitio/areas/bo...</td>\n",
       "      <td>1766</td>\n",
       "      <td>-31</td>\n",
       "      <td>3497</td>\n",
       "      <td>1730</td>\n",
       "      <td>1797</td>\n",
       "      <td>35</td>\n",
       "      <td>117</td>\n",
       "      <td>69</td>\n",
       "      <td>336</td>\n",
       "    </tr>\n",
       "    <tr>\n",
       "      <th>3</th>\n",
       "      <td>32</td>\n",
       "      <td>Argentina</td>\n",
       "      <td>14</td>\n",
       "      <td>Cordoba</td>\n",
       "      <td>42</td>\n",
       "      <td>General San Martin</td>\n",
       "      <td>14042</td>\n",
       "      <td>2018</td>\n",
       "      <td>2</td>\n",
       "      <td>centro cordoba sur</td>\n",
       "      <td>...</td>\n",
       "      <td>http://www.agroindustria.gob.ar/sitio/areas/bo...</td>\n",
       "      <td>2045</td>\n",
       "      <td>136</td>\n",
       "      <td>4589</td>\n",
       "      <td>2544</td>\n",
       "      <td>1909</td>\n",
       "      <td>36</td>\n",
       "      <td>157</td>\n",
       "      <td>65</td>\n",
       "      <td>436</td>\n",
       "    </tr>\n",
       "  </tbody>\n",
       "</table>\n",
       "<p>4 rows × 21 columns</p>\n",
       "</div>"
      ],
      "text/plain": [
       "   pais_id       pais  provincia_id     provincia  departamento_id   \n",
       "0       32  Argentina             6  Buenos Aires              105  \\\n",
       "1       32  Argentina             6  Buenos Aires              231   \n",
       "2       32  Argentina             6  Buenos Aires              203   \n",
       "3       32  Argentina            14       Cordoba               42   \n",
       "\n",
       "         departamento  prov_depto   año  mes                        modelo   \n",
       "0             Bolivar        6105  2018    2  buenos aires centro-sudoeste  \\\n",
       "1            Daireaux        6231  2018    2  buenos aires centro-sudoeste   \n",
       "2      Coronel Suarez        6203  2018    2  buenos aires centro-sudoeste   \n",
       "3  General San Martin       14042  2018    2            centro cordoba sur   \n",
       "\n",
       "   ...                                         referencia margen_bruto_($/ha)   \n",
       "0  ...  http://www.agroindustria.gob.ar/sitio/areas/bo...                1766  \\\n",
       "1  ...  http://www.agroindustria.gob.ar/sitio/areas/bo...                1766   \n",
       "2  ...  http://www.agroindustria.gob.ar/sitio/areas/bo...                1766   \n",
       "3  ...  http://www.agroindustria.gob.ar/sitio/areas/bo...                2045   \n",
       "\n",
       "   resultado_neto_($/ha)  ingreso_neto_($/ha)  gastos_directos_($/ha)   \n",
       "0                    -31                 3497                    1730  \\\n",
       "1                    -31                 3497                    1730   \n",
       "2                    -31                 3497                    1730   \n",
       "3                    136                 4589                    2544   \n",
       "\n",
       "   costos_indirectos_($/ha)  eficiencia_stock_(%)  producción_(kg/ha)   \n",
       "0                      1797                    35                 117  \\\n",
       "1                      1797                    35                 117   \n",
       "2                      1797                    35                 117   \n",
       "3                      1909                    36                 157   \n",
       "\n",
       "   destete_(%)  carga_(kg/ha)  \n",
       "0           69            336  \n",
       "1           69            336  \n",
       "2           69            336  \n",
       "3           65            436  \n",
       "\n",
       "[4 rows x 21 columns]"
      ]
     },
     "execution_count": 49,
     "metadata": {},
     "output_type": "execute_result"
    }
   ],
   "source": [
    "df_carnes.head(4)"
   ]
  },
  {
   "cell_type": "code",
   "execution_count": 50,
   "id": "9aba77da-6e1b-4873-8af1-cd8faf203757",
   "metadata": {
    "tags": []
   },
   "outputs": [],
   "source": [
    "#cantidad total de registros de ventas de carne"
   ]
  },
  {
   "cell_type": "code",
   "execution_count": 51,
   "id": "b730b7ed-f3cb-4eb7-9a80-e75b043517bc",
   "metadata": {
    "tags": []
   },
   "outputs": [
    {
     "name": "stdout",
     "output_type": "stream",
     "text": [
      "2598\n"
     ]
    }
   ],
   "source": [
    "total_ventas_carnes = df_carnes['modelo'].count()\n",
    "print(total_ventas_carnes)"
   ]
  },
  {
   "cell_type": "code",
   "execution_count": 52,
   "id": "b4ec07b1-952f-40b9-9d45-985efbf79587",
   "metadata": {
    "tags": []
   },
   "outputs": [],
   "source": [
    "#Calcular el ingreso neto promedio por hectárea y las estadísticas descriptivas"
   ]
  },
  {
   "cell_type": "code",
   "execution_count": 53,
   "id": "2d199458-5797-491a-94a7-70312944b0f8",
   "metadata": {},
   "outputs": [
    {
     "name": "stdout",
     "output_type": "stream",
     "text": [
      "1585.5581216320247\n"
     ]
    }
   ],
   "source": [
    "df_ingresoNeto = df_carnes['ingreso_neto_($/ha)'].mean()\n",
    "print(df_ingresoNeto)"
   ]
  },
  {
   "cell_type": "code",
   "execution_count": 54,
   "id": "00804422-f466-48ac-b4e9-bef8023ed201",
   "metadata": {
    "tags": []
   },
   "outputs": [],
   "source": [
    "#Calcular el margen bruto promedio."
   ]
  },
  {
   "cell_type": "code",
   "execution_count": 55,
   "id": "61b65419-cb4f-44b0-bcc7-2a7d8755673c",
   "metadata": {
    "tags": []
   },
   "outputs": [
    {
     "name": "stdout",
     "output_type": "stream",
     "text": [
      "1001.0762124711316\n"
     ]
    }
   ],
   "source": [
    "df_margen_bruto = df_carnes['margen_bruto_($/ha)'].mean()\n",
    "print(df_margen_bruto)"
   ]
  },
  {
   "cell_type": "code",
   "execution_count": 56,
   "id": "717da5c3-bf21-4c6b-a6bd-44b2ebf0ffd0",
   "metadata": {
    "tags": []
   },
   "outputs": [],
   "source": [
    "#Calcular la eficiencia de stock promedio"
   ]
  },
  {
   "cell_type": "code",
   "execution_count": 57,
   "id": "9f8fd06d-ad35-4dc5-b5c2-3713a260d969",
   "metadata": {
    "tags": []
   },
   "outputs": [
    {
     "name": "stdout",
     "output_type": "stream",
     "text": [
      "32.75519630484988\n"
     ]
    }
   ],
   "source": [
    "df_eficiencia_stock = df_carnes['eficiencia_stock_(%)'].mean()\n",
    "print(df_eficiencia_stock)"
   ]
  },
  {
   "cell_type": "code",
   "execution_count": 58,
   "id": "5de39277-91d5-418e-8d1f-492862a087f7",
   "metadata": {
    "tags": []
   },
   "outputs": [],
   "source": [
    "#Calcular la producción promedio"
   ]
  },
  {
   "cell_type": "code",
   "execution_count": 59,
   "id": "f01ce21e-dd55-4abe-8fe0-e88740ca9b9f",
   "metadata": {
    "tags": []
   },
   "outputs": [
    {
     "name": "stdout",
     "output_type": "stream",
     "text": [
      "78.70823710546574\n"
     ]
    }
   ],
   "source": [
    "df_producción = df_carnes['producción_(kg/ha)'].mean()\n",
    "print(df_producción)"
   ]
  },
  {
   "cell_type": "code",
   "execution_count": 60,
   "id": "6a9d193e-f2ea-4e7c-a7e7-977eeee9b7f7",
   "metadata": {
    "tags": []
   },
   "outputs": [],
   "source": [
    "#mostramos de manera asendenete los modelos que tuvieron peor margen_bruto_($/ha) de la tabla"
   ]
  },
  {
   "cell_type": "code",
   "execution_count": 61,
   "id": "86009a36-e522-46fb-929a-042dfc8de5f3",
   "metadata": {
    "tags": []
   },
   "outputs": [
    {
     "data": {
      "text/plain": [
       "1485    pampeana subhumeda\n",
       "1471    pampeana subhumeda\n",
       "1473    pampeana subhumeda\n",
       "1469    pampeana subhumeda\n",
       "1474    pampeana subhumeda\n",
       "1478    pampeana subhumeda\n",
       "1479    pampeana subhumeda\n",
       "1480    pampeana subhumeda\n",
       "1481    pampeana subhumeda\n",
       "1482    pampeana subhumeda\n",
       "Name: modelo, dtype: object"
      ]
     },
     "execution_count": 61,
     "metadata": {},
     "output_type": "execute_result"
    }
   ],
   "source": [
    "df_carnes.sort_values(by = 'margen_bruto_($/ha)', ascending =False)['modelo'].head(10)"
   ]
  },
  {
   "cell_type": "code",
   "execution_count": 62,
   "id": "0bc3270b-e2e5-4ece-93ad-2a2b92bbb44e",
   "metadata": {
    "tags": []
   },
   "outputs": [],
   "source": [
    "#mostramos de manera asendente los modelos que tuvieron el mejor margen_bruto_($/ha) de la tabla"
   ]
  },
  {
   "cell_type": "code",
   "execution_count": 63,
   "id": "4af58272-e2cc-461a-8218-998cc0e5e165",
   "metadata": {
    "tags": []
   },
   "outputs": [
    {
     "data": {
      "text/plain": [
       "1864    entre rios sw\n",
       "1874    entre rios sw\n",
       "1872    entre rios sw\n",
       "1867    entre rios sw\n",
       "1865    entre rios sw\n",
       "1866    entre rios sw\n",
       "1868    entre rios sw\n",
       "1869    entre rios sw\n",
       "1870    entre rios sw\n",
       "1873    entre rios sw\n",
       "Name: modelo, dtype: object"
      ]
     },
     "execution_count": 63,
     "metadata": {},
     "output_type": "execute_result"
    }
   ],
   "source": [
    "df_carnes.sort_values(by = 'margen_bruto_($/ha)', ascending =False)['modelo'].tail(10)"
   ]
  },
  {
   "cell_type": "code",
   "execution_count": 64,
   "id": "2f9ecbb9-e090-4296-a64b-e4eb1fa60889",
   "metadata": {
    "tags": []
   },
   "outputs": [],
   "source": [
    "#observamos la producción_(kg/ha)referente al año"
   ]
  },
  {
   "cell_type": "code",
   "execution_count": 65,
   "id": "2b2b6a56-fada-4740-b0f1-60b29a1c2e59",
   "metadata": {
    "tags": []
   },
   "outputs": [],
   "source": [
    "df_años = df_carnes.groupby('año')['producción_(kg/ha)'].mean().reset_index()"
   ]
  },
  {
   "cell_type": "code",
   "execution_count": 71,
   "id": "31914765-b9e9-4129-8449-7f09a7bc87d0",
   "metadata": {
    "tags": []
   },
   "outputs": [
    {
     "data": {
      "text/plain": [
       "([<matplotlib.axis.XTick at 0x21097d69790>,\n",
       "  <matplotlib.axis.XTick at 0x21097d69760>,\n",
       "  <matplotlib.axis.XTick at 0x21097d69250>,\n",
       "  <matplotlib.axis.XTick at 0x21097d89df0>],\n",
       " [Text(2015, 0, '2015'),\n",
       "  Text(2016, 0, '2016'),\n",
       "  Text(2017, 0, '2017'),\n",
       "  Text(2018, 0, '2018')])"
      ]
     },
     "execution_count": 71,
     "metadata": {},
     "output_type": "execute_result"
    },
    {
     "data": {
      "image/png": "[encoded data removed]",
      "text/plain": [
       "<Figure size 640x480 with 1 Axes>"
      ]
     },
     "metadata": {},
     "output_type": "display_data"
    }
   ],
   "source": [
    "x = pd.to_numeric(df_años['año'])\n",
    "\n",
    "# Graficar los datos\n",
    "plt.plot(x, df_años['producción_(kg/ha)'])\n",
    "plt.title('Producción de carne por año')\n",
    "plt.xlabel('Año')\n",
    "plt.ylabel('Producción (kg/ha)')\n",
    "plt.grid(True)\n",
    "\n",
    "# Establecer los ticks en el eje x\n",
    "plt.xticks(np.arange(x.min(), x.max()+1, 1))"
   ]
  },
  {
   "cell_type": "code",
   "execution_count": null,
   "id": "1c6763ca-093e-47a8-9bf9-c80879b54652",
   "metadata": {
    "tags": []
   },
   "outputs": [],
   "source": [
    "#graficamos los diferentes tipos de modelos de carnes segun su promedio de  produccion"
   ]
  },
  {
   "cell_type": "code",
   "execution_count": null,
   "id": "6ac98340-ebfc-4c71-a711-11e84ad19fb6",
   "metadata": {
    "tags": []
   },
   "outputs": [],
   "source": [
    "df_modelo_produccion = df_carnes[['modelo', 'producción_(kg/ha)']]\n"
   ]
  },
  {
   "cell_type": "code",
   "execution_count": null,
   "id": "990744a3-ab93-4851-9411-02a47b7c807c",
   "metadata": {
    "tags": []
   },
   "outputs": [],
   "source": [
    "promedio_produccion_por_modelo = df_modelo_produccion.groupby('modelo')['producción_(kg/ha)'].mean()\n"
   ]
  },
  {
   "cell_type": "code",
   "execution_count": null,
   "id": "906038d3-d22e-4a45-9511-d1175498976f",
   "metadata": {
    "tags": []
   },
   "outputs": [],
   "source": [
    "plt.figure(figsize=(10, 6))\n",
    "promedio_produccion_por_modelo.plot(kind='bar')\n",
    "plt.xlabel('Modelo de carne')\n",
    "plt.ylabel('Producción promedio (kg/ha)')\n",
    "plt.title('Producción promedio por modelo de carne')\n",
    "plt.grid(True)"
   ]
  },
  {
   "cell_type": "code",
   "execution_count": null,
   "id": "f9d97c6b-bfab-44e2-8637-188d45021b51",
   "metadata": {
    "tags": []
   },
   "outputs": [],
   "source": [
    "# graficamos segun su actividad "
   ]
  },
  {
   "cell_type": "code",
   "execution_count": null,
   "id": "5b321d23-56c4-4eae-bf7d-e0eba68bdbeb",
   "metadata": {
    "tags": []
   },
   "outputs": [],
   "source": [
    "frecuencia_actividad = df_carnes['actividad'].value_counts()"
   ]
  },
  {
   "cell_type": "code",
   "execution_count": null,
   "id": "290966f3-454f-4bc3-b5e5-d6abf934d1f7",
   "metadata": {
    "tags": []
   },
   "outputs": [],
   "source": [
    "plt.bar(frecuencia_actividad.index, frecuencia_actividad.values)\n",
    "plt.xlabel('Actividad')\n",
    "plt.ylabel('Frecuencia')\n",
    "plt.title('Frecuencia de Actividad')\n",
    "plt.grid(True)"
   ]
  },
  {
   "cell_type": "code",
   "execution_count": null,
   "id": "2ddd40d9-06ba-4b2d-b978-ee28c5874865",
   "metadata": {
    "tags": []
   },
   "outputs": [],
   "source": [
    "#tomamos los 3 promedios mayores en produccion y miramos que tipo de actividad practican mas"
   ]
  },
  {
   "cell_type": "code",
   "execution_count": null,
   "id": "d8201907-efec-4732-90d5-ed14c6e9d940",
   "metadata": {
    "tags": []
   },
   "outputs": [],
   "source": [
    "#entre rios sw\n",
    "#cuepampena subhumeda\n",
    "#centro cordoba sur"
   ]
  },
  {
   "cell_type": "code",
   "execution_count": 72,
   "id": "494ca98b-1bbf-44e4-8bbc-059e0dcae24a",
   "metadata": {
    "tags": []
   },
   "outputs": [],
   "source": [
    "df_entre_rios = df_carnes[df_carnes['modelo'] == 'entre rios sw']\n",
    "actividades = df_entre_rios['actividad']\n",
    "frecuencia_actividades = actividades.value_counts()"
   ]
  },
  {
   "cell_type": "code",
   "execution_count": 73,
   "id": "0773a583-fb28-4255-a29a-3c477d4c6e64",
   "metadata": {
    "tags": []
   },
   "outputs": [],
   "source": [
    "df_pampeana_subhumeda = df_carnes[df_carnes['modelo'] == 'pampeana subhumeda']\n",
    "actividades2 = df_pampeana_subhumeda['actividad']\n",
    "frecuencia_actividades2 = actividades2.value_counts()"
   ]
  },
  {
   "cell_type": "code",
   "execution_count": 74,
   "id": "b5ab89da-a1eb-4b6e-87ae-9d2cfee50b42",
   "metadata": {
    "tags": []
   },
   "outputs": [],
   "source": [
    "df_centro_cordoba_sur = df_carnes[df_carnes['modelo'] == 'centro cordoba sur']\n",
    "actividades3 = df_centro_cordoba_sur['actividad']\n",
    "frecuencia_actividades3 = actividades3.value_counts()"
   ]
  },
  {
   "cell_type": "code",
   "execution_count": 75,
   "id": "6407f382-7462-4fd2-91ee-d0222ed0e8d6",
   "metadata": {
    "tags": []
   },
   "outputs": [],
   "source": [
    "actividades = df_carnes['actividad']\n",
    "frecuencia_global = actividades.value_counts()"
   ]
  },
  {
   "cell_type": "code",
   "execution_count": 76,
   "id": "a3559c1a-b031-4425-b2d0-f4b73c61ebb9",
   "metadata": {
    "tags": []
   },
   "outputs": [
    {
     "data": {
      "text/html": [
       "<div>\n",
       "<style scoped>\n",
       "    .dataframe tbody tr th:only-of-type {\n",
       "        vertical-align: middle;\n",
       "    }\n",
       "\n",
       "    .dataframe tbody tr th {\n",
       "        vertical-align: top;\n",
       "    }\n",
       "\n",
       "    .dataframe thead th {\n",
       "        text-align: right;\n",
       "    }\n",
       "</style>\n",
       "<table border=\"1\" class=\"dataframe\">\n",
       "  <thead>\n",
       "    <tr style=\"text-align: right;\">\n",
       "      <th></th>\n",
       "      <th>pais_id</th>\n",
       "      <th>pais</th>\n",
       "      <th>provincia_id</th>\n",
       "      <th>provincia</th>\n",
       "      <th>departamento_id</th>\n",
       "      <th>departamento</th>\n",
       "      <th>prov_depto</th>\n",
       "      <th>año</th>\n",
       "      <th>mes</th>\n",
       "      <th>modelo</th>\n",
       "      <th>...</th>\n",
       "      <th>referencia</th>\n",
       "      <th>margen_bruto_($/ha)</th>\n",
       "      <th>resultado_neto_($/ha)</th>\n",
       "      <th>ingreso_neto_($/ha)</th>\n",
       "      <th>gastos_directos_($/ha)</th>\n",
       "      <th>costos_indirectos_($/ha)</th>\n",
       "      <th>eficiencia_stock_(%)</th>\n",
       "      <th>producción_(kg/ha)</th>\n",
       "      <th>destete_(%)</th>\n",
       "      <th>carga_(kg/ha)</th>\n",
       "    </tr>\n",
       "  </thead>\n",
       "  <tbody>\n",
       "    <tr>\n",
       "      <th>144</th>\n",
       "      <td>32</td>\n",
       "      <td>Argentina</td>\n",
       "      <td>6</td>\n",
       "      <td>Buenos Aires</td>\n",
       "      <td>7</td>\n",
       "      <td>Adolfo Alsina</td>\n",
       "      <td>6007</td>\n",
       "      <td>2018</td>\n",
       "      <td>2</td>\n",
       "      <td>pampeana subhumeda</td>\n",
       "      <td>...</td>\n",
       "      <td>http://www.agroindustria.gob.ar/sitio/areas/bo...</td>\n",
       "      <td>1210</td>\n",
       "      <td>709</td>\n",
       "      <td>1936</td>\n",
       "      <td>726</td>\n",
       "      <td>500</td>\n",
       "      <td>35</td>\n",
       "      <td>65</td>\n",
       "      <td>75</td>\n",
       "      <td>186</td>\n",
       "    </tr>\n",
       "    <tr>\n",
       "      <th>145</th>\n",
       "      <td>32</td>\n",
       "      <td>Argentina</td>\n",
       "      <td>6</td>\n",
       "      <td>Buenos Aires</td>\n",
       "      <td>154</td>\n",
       "      <td>Carlos Tejedor</td>\n",
       "      <td>6154</td>\n",
       "      <td>2018</td>\n",
       "      <td>2</td>\n",
       "      <td>pampeana subhumeda</td>\n",
       "      <td>...</td>\n",
       "      <td>http://www.agroindustria.gob.ar/sitio/areas/bo...</td>\n",
       "      <td>1210</td>\n",
       "      <td>709</td>\n",
       "      <td>1936</td>\n",
       "      <td>726</td>\n",
       "      <td>500</td>\n",
       "      <td>35</td>\n",
       "      <td>65</td>\n",
       "      <td>75</td>\n",
       "      <td>186</td>\n",
       "    </tr>\n",
       "    <tr>\n",
       "      <th>146</th>\n",
       "      <td>32</td>\n",
       "      <td>Argentina</td>\n",
       "      <td>6</td>\n",
       "      <td>Buenos Aires</td>\n",
       "      <td>392</td>\n",
       "      <td>General Villegas</td>\n",
       "      <td>6392</td>\n",
       "      <td>2018</td>\n",
       "      <td>2</td>\n",
       "      <td>pampeana subhumeda</td>\n",
       "      <td>...</td>\n",
       "      <td>http://www.agroindustria.gob.ar/sitio/areas/bo...</td>\n",
       "      <td>1210</td>\n",
       "      <td>709</td>\n",
       "      <td>1936</td>\n",
       "      <td>726</td>\n",
       "      <td>500</td>\n",
       "      <td>35</td>\n",
       "      <td>65</td>\n",
       "      <td>75</td>\n",
       "      <td>186</td>\n",
       "    </tr>\n",
       "    <tr>\n",
       "      <th>147</th>\n",
       "      <td>32</td>\n",
       "      <td>Argentina</td>\n",
       "      <td>6</td>\n",
       "      <td>Buenos Aires</td>\n",
       "      <td>399</td>\n",
       "      <td>Guamini</td>\n",
       "      <td>6399</td>\n",
       "      <td>2018</td>\n",
       "      <td>2</td>\n",
       "      <td>pampeana subhumeda</td>\n",
       "      <td>...</td>\n",
       "      <td>http://www.agroindustria.gob.ar/sitio/areas/bo...</td>\n",
       "      <td>1210</td>\n",
       "      <td>709</td>\n",
       "      <td>1936</td>\n",
       "      <td>726</td>\n",
       "      <td>500</td>\n",
       "      <td>35</td>\n",
       "      <td>65</td>\n",
       "      <td>75</td>\n",
       "      <td>186</td>\n",
       "    </tr>\n",
       "  </tbody>\n",
       "</table>\n",
       "<p>4 rows × 21 columns</p>\n",
       "</div>"
      ],
      "text/plain": [
       "     pais_id       pais  provincia_id     provincia  departamento_id   \n",
       "144       32  Argentina             6  Buenos Aires                7  \\\n",
       "145       32  Argentina             6  Buenos Aires              154   \n",
       "146       32  Argentina             6  Buenos Aires              392   \n",
       "147       32  Argentina             6  Buenos Aires              399   \n",
       "\n",
       "         departamento  prov_depto   año  mes              modelo  ...   \n",
       "144     Adolfo Alsina        6007  2018    2  pampeana subhumeda  ...  \\\n",
       "145    Carlos Tejedor        6154  2018    2  pampeana subhumeda  ...   \n",
       "146  General Villegas        6392  2018    2  pampeana subhumeda  ...   \n",
       "147           Guamini        6399  2018    2  pampeana subhumeda  ...   \n",
       "\n",
       "                                            referencia margen_bruto_($/ha)   \n",
       "144  http://www.agroindustria.gob.ar/sitio/areas/bo...                1210  \\\n",
       "145  http://www.agroindustria.gob.ar/sitio/areas/bo...                1210   \n",
       "146  http://www.agroindustria.gob.ar/sitio/areas/bo...                1210   \n",
       "147  http://www.agroindustria.gob.ar/sitio/areas/bo...                1210   \n",
       "\n",
       "     resultado_neto_($/ha)  ingreso_neto_($/ha)  gastos_directos_($/ha)   \n",
       "144                    709                 1936                     726  \\\n",
       "145                    709                 1936                     726   \n",
       "146                    709                 1936                     726   \n",
       "147                    709                 1936                     726   \n",
       "\n",
       "     costos_indirectos_($/ha)  eficiencia_stock_(%)  producción_(kg/ha)   \n",
       "144                       500                    35                  65  \\\n",
       "145                       500                    35                  65   \n",
       "146                       500                    35                  65   \n",
       "147                       500                    35                  65   \n",
       "\n",
       "     destete_(%)  carga_(kg/ha)  \n",
       "144           75            186  \n",
       "145           75            186  \n",
       "146           75            186  \n",
       "147           75            186  \n",
       "\n",
       "[4 rows x 21 columns]"
      ]
     },
     "execution_count": 76,
     "metadata": {},
     "output_type": "execute_result"
    }
   ],
   "source": [
    "df_pampeana_subhumeda.head(4)"
   ]
  },
  {
   "cell_type": "code",
   "execution_count": 77,
   "id": "031e8f00-20d2-4f87-a2cf-77188bd69ddb",
   "metadata": {
    "tags": []
   },
   "outputs": [
    {
     "data": {
      "text/plain": [
       "(-1.0999988488716679,\n",
       " 1.0999999451843652,\n",
       " -1.099998326627749,\n",
       " 1.0999997051162977)"
      ]
     },
     "execution_count": 77,
     "metadata": {},
     "output_type": "execute_result"
    },
    {
     "data": {
      "image/png": "[encoded data removed]",
      "text/plain": [
       "<Figure size 1600x700 with 4 Axes>"
      ]
     },
     "metadata": {},
     "output_type": "display_data"
    }
   ],
   "source": [
    "fig, axes = plt.subplots(nrows=2, ncols=2, figsize=(16, 7))\n",
    "\n",
    "# Subtrama 1: Distribución de actividades para el modelo x\n",
    "axes[0,0].pie(frecuencia_actividades.values, labels=frecuencia_actividades.index, autopct='%1.1f%%')\n",
    "axes[0,0].set_title('Distribución de actividades para el modelo {modelo_especifico}')\n",
    "axes[0,0].axis('equal')\n",
    "\n",
    "# Subtrama 2: Distribución de actividades para otro modelo\n",
    "axes[0,1].pie(frecuencia_actividades2.values, labels=frecuencia_actividades2.index, autopct='%1.1f%%')\n",
    "axes[0,1].set_title('Distribución de actividades para el modelo pampeana subhumeda')\n",
    "axes[0,1].axis('equal')\n",
    "\n",
    "#subtrama 3 Distribucion de actividades para el modelo de centro cordoba\n",
    "axes[1,0].pie(frecuencia_actividades3.values, labels=frecuencia_actividades3.index, autopct='%1.1f%%')\n",
    "axes[1,0].set_title('Distribución de actividades para el modelocentro cordoba sur')\n",
    "axes[1,0].axis('equal')\n",
    "\n",
    "#subtrama 4 distribucion global de las actividades\n",
    "axes[1,1].pie(frecuencia_global.values, labels = frecuencia_global.index,autopct='%1.1f%%')\n",
    "axes[1,1].set_title('Distribución de actividades global')\n",
    "axes[1,1].axis('equal')"
   ]
  },
  {
   "cell_type": "code",
   "execution_count": null,
   "id": "80d09c9c-9844-4898-a0d2-b2a73f30063b",
   "metadata": {},
   "outputs": [],
   "source": [
    "#Realizar pruebas de hipótesis utilizando bibliotecas estadísticas como SciPy para determinar si hay diferencias significativas entre las variables"
   ]
  },
  {
   "cell_type": "code",
   "execution_count": 79,
   "id": "b9600d31-22ff-4350-b410-cb51efc86950",
   "metadata": {
    "tags": []
   },
   "outputs": [],
   "source": [
    "# Separar los datos de producción en diferentes grupos según los años\n",
    "grupos = []\n",
    "for año in df_carnes['año'].unique():\n",
    "    grupo = df_carnes[df_carnes['año'] == año]['producción_(kg/ha)']\n",
    "    grupos.append(grupo)"
   ]
  },
  {
   "cell_type": "code",
   "execution_count": 80,
   "id": "17ef0672-5cbf-44fe-a792-23cbe3ee4ba3",
   "metadata": {
    "tags": []
   },
   "outputs": [],
   "source": [
    "# Realizar una prueba de hipótesis, por ejemplo, una prueba t de muestras independientes\n",
    "statistic, p_value = stats.f_oneway(*grupos)"
   ]
  },
  {
   "cell_type": "code",
   "execution_count": 81,
   "id": "aeb09916-a01f-4e63-aba6-fc999a49917d",
   "metadata": {
    "tags": []
   },
   "outputs": [
    {
     "name": "stdout",
     "output_type": "stream",
     "text": [
      "No se encontraron diferencias significativas entre los grupos.\n"
     ]
    }
   ],
   "source": [
    "# Evaluar el valor p para determinar si hay diferencias significativas\n",
    "alpha = 0.05  # Nivel de significancia\n",
    "if p_value < alpha:\n",
    "    print(\"Hay diferencias significativas entre los grupos.\")\n",
    "else:\n",
    "    print(\"No se encontraron diferencias significativas entre los grupos.\")"
   ]
  },
  {
   "cell_type": "code",
   "execution_count": 82,
   "id": "fe45460c-4b79-49ec-ba62-ac81f2ff1c72",
   "metadata": {
    "tags": []
   },
   "outputs": [
    {
     "name": "stdout",
     "output_type": "stream",
     "text": [
      "Valor p: 0.9999825829618523\n"
     ]
    }
   ],
   "source": [
    "print(\"Valor p:\", p_value)"
   ]
  },
  {
   "cell_type": "code",
   "execution_count": null,
   "id": "5ca01000-cd03-4e7f-a802-6d2d02a9654b",
   "metadata": {},
   "outputs": [],
   "source": []
  }
 ],
 "metadata": {
  "kernelspec": {
   "display_name": "Python 3 (ipykernel)",
   "language": "python",
   "name": "python3"
  },
  "language_info": {
   "codemirror_mode": {
    "name": "ipython",
    "version": 3
   },
   "file_extension": ".py",
   "mimetype": "text/x-python",
   "name": "python",
   "nbconvert_exporter": "python",
   "pygments_lexer": "ipython3",
   "version": "3.8.16"
  }
 },
 "nbformat": 4,
 "nbformat_minor": 5
}
